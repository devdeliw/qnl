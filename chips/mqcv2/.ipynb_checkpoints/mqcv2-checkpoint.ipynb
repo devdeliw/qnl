{
 "cells": [
  {
   "cell_type": "code",
   "execution_count": 1,
   "id": "ee459cc0-8f4c-4bda-bedc-c4ff49fa02b9",
   "metadata": {},
   "outputs": [],
   "source": [
    "# base imports \n",
    "import gdspy\n",
    "import numpy as np \n",
    "from collections import OrderedDict\n",
    "\n",
    "from shapely import difference\n",
    "from shapely.geometry import box\n",
    "from shapely.ops import unary_union\n",
    "from shapely.geometry import Polygon, MultiPolygon \n",
    "\n",
    "from qiskit_metal import designs, MetalGUI, draw, Dict\n",
    "from qiskit_metal.qlibrary.tlines.pathfinder import RoutePathfinder\n",
    "from qiskit_metal.qlibrary.terminations.open_to_ground import OpenToGround\n",
    "from qiskit_metal.qlibrary.terminations.short_to_ground import ShortToGround\n",
    "from qiskit_metal.qlibrary.terminations.launchpad_wb import LaunchpadWirebond\n",
    "\n",
    "# QNL components \n",
    "from qiskit_metal.qlibrary.QNLMetal.chip_boundary import Boundary \n",
    "from qiskit_metal.qlibrary.QNLMetal.alignmentmarker import AlignmentMarker\n",
    "\n",
    "# custom cheesing \n",
    "from qiskit_metal.toolbox_python.cheesing import Buffer, Cheese  "
   ]
  },
  {
   "cell_type": "code",
   "execution_count": 2,
   "id": "16d0e733-13ae-4b1c-a2eb-c0c81f2b5b73",
   "metadata": {},
   "outputs": [],
   "source": [
    "# custom components \n",
    "from components.fluxoniums import * \n",
    "from components.readout_bus import * \n",
    "from components.transmon import * \n",
    "from components.resonators import * \n",
    "from components.launch_pad_cpws import * \n",
    "from components.markers import *\n",
    "from components.boundary import * "
   ]
  },
  {
   "cell_type": "code",
   "execution_count": 3,
   "id": "c701660d-8187-4b8b-a334-5e5241f843f2",
   "metadata": {},
   "outputs": [],
   "source": [
    "design = designs.DesignPlanar() \n",
    "design.overwrite_enabled = True \n",
    "\n",
    "%load_ext autoreload \n",
    "%autoreload 2 "
   ]
  },
  {
   "cell_type": "code",
   "execution_count": 4,
   "id": "7e6149ff-0c8c-4258-85bb-78b14f4ea6c1",
   "metadata": {},
   "outputs": [
    {
     "name": "stderr",
     "output_type": "stream",
     "text": [
      "11:49PM 08s CRITICAL [_qt_message_handler]: line: 0, func: None(), file: None  WARNING: Populating font family aliases took 209 ms. Replace uses of missing font family \"Courier\" with one that exists to avoid this cost. \n",
      "\n"
     ]
    }
   ],
   "source": [
    "gui = MetalGUI(design)"
   ]
  },
  {
   "cell_type": "code",
   "execution_count": 5,
   "id": "b7f91556-8151-4eb4-ac5c-136aac2aa671",
   "metadata": {},
   "outputs": [],
   "source": [
    "# Right Capacitively Coupled Fluxonium \n",
    "right_fluxonium_origin = ['1700um', '812.5um']\n",
    "main_pos_x, main_pos_y = design.parse_value(right_fluxonium_origin)\n",
    "\n",
    "nodes                         = coupled_fluxonium(design, name='right_coupled_fluxonium', options=Dict(pos_x=main_pos_x, pos_y=main_pos_y)) \n",
    "nodes                         = add_capacitive_claws(design, nodes=nodes, name='right_capaclaws')\n",
    "nodes                         = add_resonator_claws(design, nodes=nodes, name='right_resclaws') \n",
    "right_coupled_fluxonium_nodes = add_fluxlines(design, nodes=nodes, name='right_fluxlines') "
   ]
  },
  {
   "cell_type": "code",
   "execution_count": 6,
   "id": "eb5ed506-ce5b-4c75-80ea-a64cb3132439",
   "metadata": {},
   "outputs": [],
   "source": [
    "# Right Individual Fluxonium\n",
    "singlet_x_offset = design.parse_value('0um') \n",
    "singlet_y_offset = design.parse_value('-2737um') \n",
    "\n",
    "singlet_x = main_pos_x + singlet_x_offset\n",
    "singlet_y = main_pos_y + singlet_y_offset\n",
    "\n",
    "nodes                        = single_fluxonium(design, name='single_fluxonium', options=Dict(pos_x=singlet_x, pos_y=singlet_y))\n",
    "right_single_fluxonium_nodes = add_resonator_claw(design, nodes=nodes, name='single_claw')"
   ]
  },
  {
   "cell_type": "code",
   "execution_count": 7,
   "id": "9f0d5e4c-eb21-4555-bfe1-0999213872b0",
   "metadata": {},
   "outputs": [],
   "source": [
    "# Left Transmon \n",
    "transmon_x_offset = design.parse_value('-3400um') \n",
    "transmon_y_offset = design.parse_value('1687.5um') \n",
    "\n",
    "tsmn_x = main_pos_x + transmon_x_offset \n",
    "tsmn_y = main_pos_y + transmon_y_offset \n",
    "\n",
    "nodes      = transmon(design, name='tsmn', options=Dict(pos_x=tsmn_x, pos_y=tsmn_y)) \n",
    "tsmn_nodes = add_claw(design, nodes=nodes, name='tsmn_claw')"
   ]
  },
  {
   "cell_type": "code",
   "execution_count": 8,
   "id": "09c4dff5-da9a-49fd-893d-905c7b6ce748",
   "metadata": {},
   "outputs": [],
   "source": [
    "# Left Capactively Coupled Fluxonium \n",
    "left_coupled_x_offset = transmon_x_offset \n",
    "left_coupled_y_offset = design.parse_value('-649.5um')\n",
    "\n",
    "left_couple_x = main_pos_x + left_coupled_x_offset \n",
    "left_couple_y = main_pos_y + left_coupled_y_offset \n",
    "\n",
    "nodes                        = coupled_fluxonium(design, name='left_coupled_fluxonium', options=Dict(pos_x=left_couple_x, pos_y=left_couple_y)) \n",
    "nodes                        = add_capacitive_claws(design, pair='left', nodes=nodes, name='left_capaclaws')\n",
    "nodes                        = add_resonator_claws(design, side='right', nodes=nodes, name='left_resclaws') \n",
    "left_coupled_fluxonium_nodes = add_fluxlines(design, nodes=nodes, name='left_fluxlines') "
   ]
  },
  {
   "cell_type": "code",
   "execution_count": 9,
   "id": "8b5141fc-6dae-46b4-bc99-36d1979cca7f",
   "metadata": {},
   "outputs": [
    {
     "name": "stderr",
     "output_type": "stream",
     "text": [
      "WARNING:py.warnings:/Users/devaldeliwala/qiskit-metal/qiskit_metal/qlibrary/core/base.py:908: RuntimeWarning: invalid value encountered in divide\n",
      "  vec_normal /= np.linalg.norm(vec_normal)\n",
      "\n",
      "WARNING:py.warnings:/Users/devaldeliwala/qiskit-metal/qiskit_metal/qlibrary/core/base.py:908: RuntimeWarning: invalid value encountered in divide\n",
      "  vec_normal /= np.linalg.norm(vec_normal)\n",
      "\n"
     ]
    }
   ],
   "source": [
    "# Readout Bus\n",
    "\n",
    "idc_x_offset = design.parse_value('-1700um')\n",
    "idc_y_offset = design.parse_value('-4252.5um')\n",
    "\n",
    "idc_x = main_pos_x + idc_x_offset \n",
    "idc_y = main_pos_y + idc_y_offset \n",
    "\n",
    "readout_bus_nodes = readout_bus(design, idc_x, idc_y, name='readout_bus')"
   ]
  },
  {
   "cell_type": "code",
   "execution_count": 10,
   "id": "1cbf9042-c76d-4ead-b152-60df7afcc2b1",
   "metadata": {},
   "outputs": [
    {
     "name": "stdout",
     "output_type": "stream",
     "text": [
      "upper_right_res slack: -7.693756742810365e-11\n",
      "lower_right_res slack: -7.693756742810365e-11\n",
      "right_single_res slack: -7.693756742810365e-11\n",
      "transmon_res slack: -7.693667924968395e-11\n",
      "upper_left_res slack: -7.693756742810365e-11\n",
      "lower_left_res slack: -7.693845560652335e-11\n"
     ]
    }
   ],
   "source": [
    "# Coupling Resonators \n",
    "fillet = 0.075 \n",
    "\n",
    "# Upper Right Coupled Fluxonium \n",
    "pos_x, pos_y = right_coupled_fluxonium_nodes.upper_claw \n",
    "\n",
    "anchors = OrderedDict() \n",
    "anchors[0] = np.array([pos_x - 0.560, pos_y]) \n",
    "anchors[1] = np.array([anchors[0][0] - 2*fillet, anchors[0][1] + 2*fillet])\n",
    "anchors[2] = np.array([anchors[1][0] - 0.679, anchors[1][1]])\n",
    "anchors[3] = np.array([anchors[2][0], anchors[2][1] + 0.2+2*fillet])\n",
    "anchors[4] = np.array([anchors[3][0] + 0.770, anchors[3][1]])\n",
    "anchors[5] = np.array([anchors[4][0] - 0.650, anchors[4][1]+2*fillet]) \n",
    "anchors[6] = np.array([anchors[5][0], anchors[5][1]+2*fillet]) \n",
    "resonator(design, pos_x, pos_y, -0.670+0.29952220392306206, anchors, fillet, 'upper_right_res', length=4.250)\n",
    "\n",
    "# Lower Right Coupled Fluxonium\n",
    "pos_x, pos_y = right_coupled_fluxonium_nodes.lower_claw \n",
    "\n",
    "anchors = OrderedDict() \n",
    "anchors[0] = np.array([pos_x - 0.558, pos_y]) \n",
    "anchors[1] = np.array([anchors[0][0] - 2*fillet, anchors[0][1] - 2*fillet])\n",
    "anchors[2] = np.array([anchors[1][0] - 0.684, anchors[1][1]])\n",
    "anchors[3] = np.array([anchors[2][0], anchors[2][1] - (0.2+2*fillet)])\n",
    "anchors[4] = np.array([anchors[3][0] + 0.770, anchors[3][1]])\n",
    "anchors[5] = np.array([anchors[4][0] - 0.650, anchors[4][1] - 2*fillet]) \n",
    "anchors[6] = np.array([anchors[5][0], anchors[5][1] - 2*fillet]) \n",
    "resonator(design, pos_x, pos_y, -0.67+0.3345222039230622, anchors, fillet, 'lower_right_res', length=4.291)\n",
    "\n",
    "# Right Single Fluxonium \n",
    "pos_x, pos_y = right_single_fluxonium_nodes.claw\n",
    "\n",
    "anchors = OrderedDict() \n",
    "anchors[0] = np.array([pos_x - 0.565, pos_y]) \n",
    "anchors[1] = np.array([anchors[0][0] - 2*fillet-0.01, anchors[0][1] - 2*fillet-0.01])\n",
    "anchors[2] = np.array([anchors[1][0] - 0.661, anchors[1][1]])\n",
    "anchors[3] = np.array([anchors[2][0], anchors[2][1] + 0.2+2*fillet+0.01])\n",
    "anchors[4] = np.array([anchors[3][0] + 0.780, anchors[3][1]])\n",
    "anchors[5] = np.array([anchors[4][0] - 0.710, anchors[4][1]+2*fillet+0.01]) \n",
    "anchors[6] = np.array([anchors[5][0], anchors[5][1]+2*fillet+0.01]) \n",
    "resonator(design, pos_x, pos_y, -0.670+0.22852220392306233, anchors, fillet, 'right_single_res', length=4.333)\n",
    "\n",
    "# Transmon \n",
    "pos_x, pos_y = tsmn_nodes.claw \n",
    "\n",
    "anchors = OrderedDict() \n",
    "anchors[0] = np.array([pos_x + 0.625, pos_y]) \n",
    "anchors[1] = np.array([anchors[0][0] + 2*fillet-0.01, anchors[0][1] - 2*fillet-0.01])\n",
    "anchors[2] = np.array([anchors[1][0] + 0.5136, anchors[1][1]])\n",
    "anchors[3] = np.array([anchors[2][0], anchors[2][1] + 0.2+2*fillet+0.01])\n",
    "anchors[4] = np.array([anchors[3][0] - 0.790, anchors[3][1]])\n",
    "anchors[5] = np.array([anchors[4][0] + 0.737, anchors[4][1]+2*fillet+0.01]) \n",
    "anchors[6] = np.array([anchors[5][0], anchors[5][1]+2*fillet+0.01]) \n",
    "resonator(design, pos_x, pos_y, 0.5336-0.3829222039230631, anchors, fillet, 'transmon_res', length=4.463)\n",
    "\n",
    "# Upper Left Coupled Fluxonium \n",
    "pos_x, pos_y = left_coupled_fluxonium_nodes.upper_claw \n",
    "\n",
    "anchors = OrderedDict() \n",
    "anchors[0] = np.array([pos_x + 0.635, pos_y]) \n",
    "anchors[1] = np.array([anchors[0][0] + fillet, anchors[0][1] + fillet]) \n",
    "anchors[2] = np.array([anchors[1][0], anchors[1][1] + 0.13])\n",
    "anchors[3] = np.array([anchors[2][0] + fillet, anchors[2][1] + fillet]) \n",
    "anchors[4] = np.array([anchors[3][0] + 0.604, anchors[3][1]])\n",
    "anchors[5] = np.array([anchors[4][0], anchors[4][1] + 0.2+2*fillet+0.01])\n",
    "anchors[6] = np.array([anchors[5][0] - 0.780, anchors[5][1]])\n",
    "anchors[7] = np.array([anchors[6][0] + 0.642, anchors[6][1]+2*fillet+0.01]) \n",
    "anchors[8] = np.array([anchors[7][0], anchors[7][1]+2*fillet+0.01]) \n",
    "resonator(design, pos_x, pos_y, 0.670-0.28052220392306193, anchors, fillet, 'upper_left_res', length=4.375)\n",
    "\n",
    "# Lower Left Coupled Fluxonium \n",
    "pos_x, pos_y = left_coupled_fluxonium_nodes.lower_claw \n",
    "\n",
    "anchors = OrderedDict() \n",
    "anchors[0] = np.array([pos_x + 0.638, pos_y]) \n",
    "anchors[1] = np.array([anchors[0][0] + fillet, anchors[0][1]])\n",
    "anchors[2] = np.array([anchors[1][0], anchors[1][1] - fillet])\n",
    "anchors[3] = np.array([anchors[2][0], anchors[2][1] - 0.13])\n",
    "anchors[4] = np.array([anchors[3][0] + fillet, anchors[3][1] - fillet])\n",
    "anchors[5] = np.array([anchors[4][0] + 0.604, anchors[4][1]])\n",
    "anchors[6] = np.array([anchors[5][0], anchors[5][1] - 0.2-(2*fillet+0.01)])\n",
    "anchors[7] = np.array([anchors[6][0] - 0.780, anchors[6][1]])\n",
    "anchors[8] = np.array([anchors[7][0] + 0.642, anchors[7][1]-(2*fillet+0.01)]) \n",
    "anchors[9] = np.array([anchors[8][0], anchors[8][1]-(2*fillet+0.01)]) \n",
    "resonator(design, pos_x, pos_y, 0.670-0.3185222039230613, anchors, fillet, 'lower_left_res', length=4.419)"
   ]
  },
  {
   "cell_type": "code",
   "execution_count": 11,
   "id": "eed71d01-5b65-40a3-adf7-49e199376a55",
   "metadata": {},
   "outputs": [],
   "source": [
    "# Launches and CPWs \n",
    "launch_instance = LaunchCPWs(design, main_pos_x, main_pos_y) \n",
    "\n",
    "# Attaches to qubit fluxlines \n",
    "launch_instance.place_launchpad_cpw_fluxline(key='top_right',    end_pos=right_coupled_fluxonium_nodes.upper_flux_line_end)\n",
    "launch_instance.place_launchpad_cpw_fluxline(key='bottom_right', end_pos=right_coupled_fluxonium_nodes.lower_flux_line_end) \n",
    "launch_instance.place_launchpad_cpw_fluxline(key='top_left',     end_pos=left_coupled_fluxonium_nodes.upper_flux_line_end) \n",
    "launch_instance.place_launchpad_cpw_fluxline(key='bottom_left',  end_pos=left_coupled_fluxonium_nodes.lower_flux_line_end)\n",
    "\n",
    "# OpenToGround attachments adjacent to qubits \n",
    "launch_instance.place_launchpad_cpw_qubit(key='top_right',       end_pos=right_coupled_fluxonium_nodes.top_right) \n",
    "launch_instance.place_launchpad_cpw_qubit(key='bottom_right',    end_pos=right_single_fluxonium_nodes.right)  \n",
    "launch_instance.place_launchpad_cpw_qubit(key='top_left',        end_pos=left_coupled_fluxonium_nodes.top_left)  \n",
    "launch_instance.place_launchpad_cpw_qubit(key='bottom_left',     end_pos=left_coupled_fluxonium_nodes.bottom_left)  \n",
    "launch_instance.place_launchpad_cpw_qubit(key='right_center',    end_pos=right_coupled_fluxonium_nodes.bottom_right) "
   ]
  },
  {
   "cell_type": "code",
   "execution_count": 12,
   "id": "9e3025fe-f423-417f-8865-fbd9f9ad9133",
   "metadata": {},
   "outputs": [],
   "source": [
    "# Alignment Markers \n",
    "markers(design, main_pos_x, main_pos_y, 'upper_right') \n",
    "markers(design, main_pos_x, main_pos_y, 'lower_right') \n",
    "markers(design, main_pos_x, main_pos_y, 'upper_left') \n",
    "markers(design, main_pos_x, main_pos_y, 'lower_left')"
   ]
  },
  {
   "cell_type": "code",
   "execution_count": 13,
   "id": "388e39f9-113b-418f-9e09-e4f70437956b",
   "metadata": {},
   "outputs": [],
   "source": [
    "# Chip boundary \n",
    "boundary(design, pos_x=0, pos_y=0) "
   ]
  },
  {
   "cell_type": "code",
   "execution_count": 14,
   "id": "e1bb2d9b-cf33-4699-8ba5-70b7e9bd9367",
   "metadata": {},
   "outputs": [
    {
     "name": "stderr",
     "output_type": "stream",
     "text": [
      "WARNING:py.warnings:/Users/devaldeliwala/qiskit-metal/qiskit_metal/qlibrary/core/base.py:908: RuntimeWarning: invalid value encountered in divide\n",
      "  vec_normal /= np.linalg.norm(vec_normal)\n",
      "\n"
     ]
    }
   ],
   "source": [
    "gui.rebuild() \n",
    "gui.autoscale()"
   ]
  },
  {
   "cell_type": "code",
   "execution_count": 15,
   "id": "e327e1b8-5b9d-4afb-9cc7-6b1f2142f364",
   "metadata": {},
   "outputs": [
    {
     "name": "stderr",
     "output_type": "stream",
     "text": [
      "INFO:root: Generating intermediate ignore.gds. Deleting afterwards.\n",
      "11:49PM 34s WARNING [_qgeometry_to_gds]: Unexpected shapely object geometry.The variable qgeometry_element is <class 'numpy.float64'>, method can currently handle Polygon and FlexPath.\n",
      "11:49PM 34s WARNING [_qgeometry_to_gds]: Unexpected shapely object geometry.The variable qgeometry_element is <class 'numpy.float64'>, method can currently handle Polygon and FlexPath.\n",
      "11:49PM 35s WARNING [_import_junction_gds_file]: Not able to find file:\"../resources/Fake_Junctions.GDS\".  Not used to replace junction. Checked directory:\"/Users/devaldeliwala/qnl/chips/resources\".\n",
      "11:49PM 35s WARNING [_check_either_cheese]: layer=0 is not in chip=main either in no_cheese_view_in_file or cheese_view_in_file from self.options.\n",
      "11:49PM 35s WARNING [_check_either_cheese]: layer=2 is not in chip=main either in no_cheese_view_in_file or cheese_view_in_file from self.options.\n"
     ]
    }
   ],
   "source": [
    "a_gds = design.renderers.gds \n",
    "a_gds.options['cheese']['cheese_0_x'] = '2um' \n",
    "a_gds.options['cheese']['cheese_0_y'] = '2um' \n",
    "a_gds.options['cheese']['delta_x'] = '8um' \n",
    "a_gds.options['cheese']['delta_y'] = '8um'\n",
    "a_gds.options['cheese']['edge_nocheese'] = '80um'\n",
    "\n",
    "\n",
    "chip = design.chips['main']\n",
    "chip['size']['size_x'] = '10mm' \n",
    "chip['size']['size_y'] = '10mm'\n",
    "\n",
    "\n",
    "cheese = Cheese(design, buffer_value='30um', no_cheese_layer=2, cheese_layer=0) \n",
    "cheese.add_buffer() "
   ]
  },
  {
   "cell_type": "code",
   "execution_count": null,
   "id": "3a85dbcd-beda-4484-a885-9ba7e6c8cdb4",
   "metadata": {},
   "outputs": [
    {
     "name": "stderr",
     "output_type": "stream",
     "text": [
      "INFO:root: Starting to build cheeses.   Usually takes <5min.\n"
     ]
    }
   ],
   "source": [
    "cheese.export_with_cheese(filename='mqcv2.gds')"
   ]
  },
  {
   "cell_type": "code",
   "execution_count": null,
   "id": "e6d9ec2d-12f2-4e0d-af83-0e2609c99293",
   "metadata": {},
   "outputs": [],
   "source": []
  }
 ],
 "metadata": {
  "kernelspec": {
   "display_name": "qiskit-metal",
   "language": "python",
   "name": "qiskit-metal"
  },
  "language_info": {
   "codemirror_mode": {
    "name": "ipython",
    "version": 3
   },
   "file_extension": ".py",
   "mimetype": "text/x-python",
   "name": "python",
   "nbconvert_exporter": "python",
   "pygments_lexer": "ipython3",
   "version": "3.11.11"
  }
 },
 "nbformat": 4,
 "nbformat_minor": 5
}
